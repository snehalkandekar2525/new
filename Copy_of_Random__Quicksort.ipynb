{
  "nbformat": 4,
  "nbformat_minor": 0,
  "metadata": {
    "colab": {
      "provenance": []
    },
    "kernelspec": {
      "name": "python3",
      "display_name": "Python 3"
    },
    "language_info": {
      "name": "python"
    }
  },
  "cells": [
    {
      "cell_type": "code",
      "execution_count": null,
      "metadata": {
        "colab": {
          "base_uri": "https://localhost:8080/"
        },
        "id": "3w2JjA-9h9N_",
        "outputId": "b6516271-52c4-442d-a69f-6a88ab5f80f7"
      },
      "outputs": [
        {
          "output_type": "stream",
          "name": "stdout",
          "text": [
            "[1, 2, 3, 4, 5, 6, 7, 8, 9]\n",
            "[1, 2, 3, 4, 5, 6, 7, 8, 9]\n"
          ]
        }
      ],
      "source": [
        "import random\n",
        "\n",
        "\n",
        "def quicksort(A, i, j):\n",
        "    if i >= j:\n",
        "        return A\n",
        "\n",
        "    pivot = partition(A, i, j, j)\n",
        "    quicksort(A, i, pivot - 1)\n",
        "    quicksort(A, pivot + 1, j)\n",
        "\n",
        "\n",
        "def randomized_quicksort(A, i, j):\n",
        "    if i >= j:\n",
        "        return A\n",
        "\n",
        "    pivot = partition(A, i, j, random.randint(i, j))\n",
        "    quicksort(A, i, pivot - 1)\n",
        "    quicksort(A, pivot + 1, j)\n",
        "\n",
        "\n",
        "def partition(A, i, j, pivot):\n",
        "    A[j], A[pivot] = A[pivot], A[j]\n",
        "    store_index = i\n",
        "\n",
        "    for i in range(i, j):\n",
        "        if A[i] < A[j]:\n",
        "            A[store_index], A[i] = A[i], A[store_index]\n",
        "            store_index += 1\n",
        "\n",
        "    A[j], A[store_index] = A[store_index], A[j]\n",
        "\n",
        "    return store_index\n",
        "\n",
        "\n",
        "A = [5, 4, 2, 1, 7, 6, 3, 8, 9]\n",
        "quicksort(A, 0, len(A) - 1)\n",
        "print(A)\n",
        "\n",
        "A = [5, 4, 2, 1, 7, 6, 3, 8, 9]\n",
        "randomized_quicksort(A, 0, len(A) - 1)\n",
        "print(A)\n"
      ]
    }
  ]
}