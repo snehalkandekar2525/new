{
  "nbformat": 4,
  "nbformat_minor": 0,
  "metadata": {
    "colab": {
      "provenance": []
    },
    "kernelspec": {
      "name": "python3",
      "display_name": "Python 3"
    },
    "language_info": {
      "name": "python"
    }
  },
  "cells": [
    {
      "cell_type": "code",
      "execution_count": null,
      "metadata": {
        "colab": {
          "base_uri": "https://localhost:8080/"
        },
        "id": "bU2F2w7s4_3d",
        "outputId": "b28061ef-2985-408a-9227-109916048d21"
      },
      "outputs": [
        {
          "output_type": "stream",
          "name": "stdout",
          "text": [
            "f -> 0\n",
            "c -> 100\n",
            "d -> 101\n",
            "a -> 1100\n",
            "b -> 1101\n",
            "e -> 111\n"
          ]
        }
      ],
      "source": [
        "# A Huffman Tree Node\n",
        "import heapq\n",
        " \n",
        "class node:\n",
        "    def __init__(self, freq, symbol, left=None, right=None):\n",
        "        # frequency of symbol\n",
        "        self.freq = freq\n",
        " \n",
        "        # symbol name (character)\n",
        "        self.symbol = symbol\n",
        " \n",
        "        # node left of current node\n",
        "        self.left = left\n",
        " \n",
        "        # node right of current node\n",
        "        self.right = right\n",
        " \n",
        "        # tree direction (0/1)\n",
        "        self.huff = ''\n",
        "         \n",
        "    def __lt__(self, nxt):\n",
        "        return self.freq < nxt.freq\n",
        "         \n",
        " \n",
        "# utility function to print huffman\n",
        "# codes for all symbols in the newly\n",
        "# created Huffman tree\n",
        "def printNodes(node, val=''):\n",
        "     \n",
        "    # huffman code for current node\n",
        "    newVal = val + str(node.huff)\n",
        " \n",
        "    # if node is not an edge node\n",
        "    # then traverse inside it\n",
        "    if(node.left):\n",
        "        printNodes(node.left, newVal)\n",
        "    if(node.right):\n",
        "        printNodes(node.right, newVal)\n",
        " \n",
        "        # if node is edge node then\n",
        "        # display its huffman code\n",
        "    if(not node.left and not node.right):\n",
        "        print(f\"{node.symbol} -> {newVal}\")\n",
        " \n",
        " \n",
        "# characters for huffman tree\n",
        "chars = ['a', 'b', 'c', 'd', 'e', 'f']\n",
        " \n",
        "# frequency of characters\n",
        "freq = [ 5, 9, 12, 13, 16, 45]\n",
        " \n",
        "# list containing unused nodes\n",
        "nodes = []\n",
        " \n",
        "# converting characters and frequencies\n",
        "# into huffman tree nodes\n",
        "for x in range(len(chars)):\n",
        "    heapq.heappush(nodes, node(freq[x], chars[x]))\n",
        " \n",
        "while len(nodes) > 1:\n",
        "     \n",
        "    # sort all the nodes in ascending order\n",
        "    # based on their frequency\n",
        "    left = heapq.heappop(nodes)\n",
        "    right = heapq.heappop(nodes)\n",
        " \n",
        "    # assign directional value to these nodes\n",
        "    left.huff = 0\n",
        "    right.huff = 1\n",
        " \n",
        "    # combine the 2 smallest nodes to create\n",
        "    # new node as their parent\n",
        "    newNode = node(left.freq+right.freq, left.symbol+right.symbol, left, right)\n",
        " \n",
        "    heapq.heappush(nodes, newNode)\n",
        " \n",
        "# Huffman Tree is ready!\n",
        "printNodes(nodes[0])"
      ]
    }
  ]
}