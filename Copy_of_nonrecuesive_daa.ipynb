{
  "nbformat": 4,
  "nbformat_minor": 0,
  "metadata": {
    "colab": {
      "provenance": []
    },
    "kernelspec": {
      "name": "python3",
      "display_name": "Python 3"
    },
    "language_info": {
      "name": "python"
    }
  },
  "cells": [
    {
      "cell_type": "code",
      "execution_count": null,
      "metadata": {
        "colab": {
          "base_uri": "https://localhost:8080/"
        },
        "id": "Qh4M6akg1s70",
        "outputId": "32609644-94c2-419b-a00d-5efa54d401b6"
      },
      "outputs": [
        {
          "output_type": "stream",
          "name": "stdout",
          "text": [
            "Enter the first number of the fibonacci series... 2\n",
            "Enter the second number of the fibonacci series... 2\n",
            "Enter the number of terms... 4\n",
            "2 2\n",
            "The numbers in fibonacci series are : \n",
            "4\n",
            "6\n"
          ]
        }
      ],
      "source": [
        "#Non-Recursive Approach\n",
        "\n",
        "first_num = int(input(\"Enter the first number of the fibonacci series... \"))\n",
        "second_num = int(input(\"Enter the second number of the fibonacci series... \"))\n",
        "num_of_terms = int(input(\"Enter the number of terms... \"))\n",
        "print(first_num,second_num)\n",
        "print(\"The numbers in fibonacci series are : \")\n",
        "while(num_of_terms-2):\n",
        "   third_num = first_num + second_num\n",
        "   first_num=second_num\n",
        "   second_num=third_num\n",
        "   print(third_num)\n",
        "   num_of_terms=num_of_terms-1"
      ]
    }
  ]
}